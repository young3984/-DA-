{
 "cells": [
  {
   "cell_type": "code",
   "execution_count": 1,
   "metadata": {},
   "outputs": [],
   "source": [
    "import pandas as pd\n",
    "import numpy as np\n",
    "import matplotlib\n",
    "import matplotlib.pyplot as plt\n",
    "from pandas import Series, DataFrame\n",
    "import seaborn as sns\n",
    "from sklearn.metrics import mean_squared_error"
   ]
  },
  {
   "cell_type": "code",
   "execution_count": 2,
   "metadata": {},
   "outputs": [],
   "source": [
    "movies=pd.read_csv(\"movies.csv\")"
   ]
  },
  {
   "cell_type": "code",
   "execution_count": 3,
   "metadata": {},
   "outputs": [],
   "source": [
    "dacumentary=movies[movies.genre.isin(['다큐멘터리'])]"
   ]
  },
  {
   "cell_type": "code",
   "execution_count": 4,
   "metadata": {},
   "outputs": [],
   "source": [
    "dacumentary=dacumentary.reset_index(inplace=False)"
   ]
  },
  {
   "cell_type": "code",
   "execution_count": 5,
   "metadata": {},
   "outputs": [
    {
     "name": "stdout",
     "output_type": "stream",
     "text": [
      "전체 관람가      52\n",
      "12세 관람가     23\n",
      "15세 관람가     17\n",
      "청소년 관람불가     1\n",
      "Name: screening_rat, dtype: int64\n"
     ]
    }
   ],
   "source": [
    "print(dacumentary.screening_rat.value_counts())"
   ]
  },
  {
   "cell_type": "code",
   "execution_count": 6,
   "metadata": {},
   "outputs": [],
   "source": [
    "target=dacumentary.box_off_num\n",
    "rate=dacumentary.screening_rat\n",
    "staff=dacumentary[['num_staff']]\n",
    "time=dacumentary[['time']]"
   ]
  },
  {
   "cell_type": "code",
   "execution_count": 7,
   "metadata": {},
   "outputs": [],
   "source": [
    "rate=pd.get_dummies(rate)"
   ]
  },
  {
   "cell_type": "markdown",
   "metadata": {},
   "source": [
    "## 장르별(다큐멘터리) 상영등급별 관람객 수"
   ]
  },
  {
   "cell_type": "code",
   "execution_count": 8,
   "metadata": {},
   "outputs": [],
   "source": [
    "X=rate.values\n",
    "y=target.values\n",
    "from sklearn.model_selection import train_test_split\n",
    "X_train, X_test, y_train, y_test = train_test_split(X,y,random_state=0)"
   ]
  },
  {
   "cell_type": "markdown",
   "metadata": {},
   "source": [
    "* LinearRegression 모델"
   ]
  },
  {
   "cell_type": "code",
   "execution_count": 9,
   "metadata": {},
   "outputs": [],
   "source": [
    "from sklearn.linear_model import LinearRegression\n",
    "lr = LinearRegression().fit(X_train, y_train)"
   ]
  },
  {
   "cell_type": "code",
   "execution_count": 10,
   "metadata": {},
   "outputs": [
    {
     "name": "stdout",
     "output_type": "stream",
     "text": [
      "훈련 세트 점수: 0.017017830332210715\n",
      "테스트 세트 점수: -194.01168258881236\n"
     ]
    }
   ],
   "source": [
    "print(\"훈련 세트 점수:\",lr.score(X_train, y_train))\n",
    "print(\"테스트 세트 점수:\",lr.score(X_test, y_test))"
   ]
  },
  {
   "cell_type": "code",
   "execution_count": 11,
   "metadata": {},
   "outputs": [
    {
     "name": "stdout",
     "output_type": "stream",
     "text": [
      "rmse: 135584.39727025948\n"
     ]
    }
   ],
   "source": [
    "lr.coef_ #θ1의 값\n",
    "lr.intercept_ #θ0의 값\n",
    "y_test_prediction = lr.predict(X_test) #test set에 대한 예측값\n",
    "print(\"rmse:\",mean_squared_error(y_test, y_test_prediction) ** 0.5) #평균 제곱근 오차"
   ]
  },
  {
   "cell_type": "markdown",
   "metadata": {},
   "source": [
    "* Ridge 모델"
   ]
  },
  {
   "cell_type": "code",
   "execution_count": 12,
   "metadata": {},
   "outputs": [],
   "source": [
    "from sklearn.linear_model import Ridge\n",
    "ridge = Ridge(alpha=0.1).fit(X_train, y_train)"
   ]
  },
  {
   "cell_type": "code",
   "execution_count": 13,
   "metadata": {},
   "outputs": [
    {
     "name": "stdout",
     "output_type": "stream",
     "text": [
      "훈련 세트 점수: 0.017016791445424007\n",
      "테스트 세트 점수: -193.19106968620355\n"
     ]
    }
   ],
   "source": [
    "print(\"훈련 세트 점수:\",ridge.score(X_train, y_train))\n",
    "print(\"테스트 세트 점수:\",ridge.score(X_test, y_test))"
   ]
  },
  {
   "cell_type": "code",
   "execution_count": 14,
   "metadata": {},
   "outputs": [
    {
     "name": "stdout",
     "output_type": "stream",
     "text": [
      "rmse: 135298.82565805133\n"
     ]
    }
   ],
   "source": [
    "ridge.coef_ \n",
    "ridge.intercept_ \n",
    "y_test_prediction = ridge.predict(X_test) \n",
    "print(\"rmse:\",mean_squared_error(y_test, y_test_prediction) ** 0.5) "
   ]
  },
  {
   "cell_type": "markdown",
   "metadata": {},
   "source": [
    "* Lasso 모델"
   ]
  },
  {
   "cell_type": "code",
   "execution_count": 15,
   "metadata": {},
   "outputs": [
    {
     "name": "stderr",
     "output_type": "stream",
     "text": [
      "C:\\Users\\shinyoungmin\\anaconda3\\lib\\site-packages\\sklearn\\linear_model\\_coordinate_descent.py:529: ConvergenceWarning: Objective did not converge. You might want to increase the number of iterations. Duality gap: 20954127782.91797, tolerance: 2276846247.9623938\n",
      "  model = cd_fast.enet_coordinate_descent(\n"
     ]
    }
   ],
   "source": [
    "from sklearn.linear_model import Lasso\n",
    "lasso = Lasso().fit(X_train, y_train)"
   ]
  },
  {
   "cell_type": "code",
   "execution_count": 16,
   "metadata": {},
   "outputs": [
    {
     "name": "stdout",
     "output_type": "stream",
     "text": [
      "훈련 세트 점수: 0.017017830113612353\n",
      "테스트 세트 점수: -194.0064485042628\n"
     ]
    }
   ],
   "source": [
    "print(\"훈련 세트 점수:\",lasso.score(X_train, y_train))\n",
    "print(\"테스트 세트 점수:\",lasso.score(X_test, y_test))"
   ]
  },
  {
   "cell_type": "code",
   "execution_count": 17,
   "metadata": {},
   "outputs": [
    {
     "name": "stdout",
     "output_type": "stream",
     "text": [
      "rmse: 135582.57772552414\n"
     ]
    }
   ],
   "source": [
    "lasso.coef_ \n",
    "lasso.intercept_ \n",
    "y_test_prediction = lasso.predict(X_test) \n",
    "print(\"rmse:\",mean_squared_error(y_test, y_test_prediction) ** 0.5) "
   ]
  },
  {
   "cell_type": "markdown",
   "metadata": {},
   "source": [
    "## 장르별(다큐멘터리) 스태프수 별 관람객 수"
   ]
  },
  {
   "cell_type": "code",
   "execution_count": 18,
   "metadata": {},
   "outputs": [],
   "source": [
    "X=staff.values\n",
    "from sklearn.model_selection import train_test_split\n",
    "X_train, X_test, y_train, y_test = train_test_split(X,y,random_state=0)"
   ]
  },
  {
   "cell_type": "markdown",
   "metadata": {},
   "source": [
    "* LinearRegression 모델"
   ]
  },
  {
   "cell_type": "code",
   "execution_count": 19,
   "metadata": {},
   "outputs": [],
   "source": [
    "from sklearn.linear_model import LinearRegression\n",
    "lr = LinearRegression().fit(X_train, y_train)"
   ]
  },
  {
   "cell_type": "code",
   "execution_count": 20,
   "metadata": {},
   "outputs": [
    {
     "name": "stdout",
     "output_type": "stream",
     "text": [
      "훈련 세트 점수: 0.00239391885526008\n",
      "테스트 세트 점수: -77.85932362560878\n"
     ]
    }
   ],
   "source": [
    "print(\"훈련 세트 점수:\",lr.score(X_train, y_train))\n",
    "print(\"테스트 세트 점수:\",lr.score(X_test, y_test))"
   ]
  },
  {
   "cell_type": "code",
   "execution_count": 21,
   "metadata": {},
   "outputs": [
    {
     "name": "stdout",
     "output_type": "stream",
     "text": [
      "rmse: 86219.58417950982\n"
     ]
    }
   ],
   "source": [
    "lr.coef_ \n",
    "lr.intercept_ \n",
    "y_test_prediction = lr.predict(X_test) \n",
    "print(\"rmse:\",mean_squared_error(y_test, y_test_prediction) ** 0.5)"
   ]
  },
  {
   "cell_type": "markdown",
   "metadata": {},
   "source": [
    "* Ridge 모델"
   ]
  },
  {
   "cell_type": "code",
   "execution_count": 22,
   "metadata": {},
   "outputs": [],
   "source": [
    "from sklearn.linear_model import Ridge\n",
    "ridge = Ridge(alpha=0.1).fit(X_train, y_train)"
   ]
  },
  {
   "cell_type": "code",
   "execution_count": 23,
   "metadata": {},
   "outputs": [
    {
     "name": "stdout",
     "output_type": "stream",
     "text": [
      "훈련 세트 점수: 0.00239391885525686\n",
      "테스트 세트 점수: -77.85931139679921\n"
     ]
    }
   ],
   "source": [
    "print(\"훈련 세트 점수:\",ridge.score(X_train, y_train))\n",
    "print(\"테스트 세트 점수:\",ridge.score(X_test, y_test))"
   ]
  },
  {
   "cell_type": "code",
   "execution_count": 24,
   "metadata": {},
   "outputs": [
    {
     "name": "stdout",
     "output_type": "stream",
     "text": [
      "rmse: 86219.57749442259\n"
     ]
    }
   ],
   "source": [
    "ridge.coef_ \n",
    "ridge.intercept_ \n",
    "y_test_prediction = ridge.predict(X_test) \n",
    "print(\"rmse:\",mean_squared_error(y_test, y_test_prediction) ** 0.5) "
   ]
  },
  {
   "cell_type": "markdown",
   "metadata": {},
   "source": [
    "* Lasso 모델"
   ]
  },
  {
   "cell_type": "code",
   "execution_count": 25,
   "metadata": {},
   "outputs": [],
   "source": [
    "from sklearn.linear_model import Lasso\n",
    "lasso = Lasso().fit(X_train, y_train)"
   ]
  },
  {
   "cell_type": "code",
   "execution_count": 26,
   "metadata": {},
   "outputs": [
    {
     "name": "stdout",
     "output_type": "stream",
     "text": [
      "훈련 세트 점수: 0.0023939188552578594\n",
      "테스트 세트 점수: -77.85931307333126\n"
     ]
    }
   ],
   "source": [
    "print(\"훈련 세트 점수:\",lasso.score(X_train, y_train))\n",
    "print(\"테스트 세트 점수:\",lasso.score(X_test, y_test))"
   ]
  },
  {
   "cell_type": "code",
   "execution_count": 27,
   "metadata": {},
   "outputs": [
    {
     "name": "stdout",
     "output_type": "stream",
     "text": [
      "rmse: 86219.57841092744\n"
     ]
    }
   ],
   "source": [
    "lasso.coef_ \n",
    "lasso.intercept_ \n",
    "y_test_prediction = lasso.predict(X_test) \n",
    "print(\"rmse:\",mean_squared_error(y_test, y_test_prediction) ** 0.5) "
   ]
  },
  {
   "cell_type": "markdown",
   "metadata": {},
   "source": [
    "## 장르별(다큐멘터리) 시간별 관람객 수"
   ]
  },
  {
   "cell_type": "code",
   "execution_count": 28,
   "metadata": {},
   "outputs": [],
   "source": [
    "X=time.values\n",
    "X_train, X_test, y_train, y_test = train_test_split(X,y,random_state=0)"
   ]
  },
  {
   "cell_type": "markdown",
   "metadata": {},
   "source": [
    "* LinearRegression 모델"
   ]
  },
  {
   "cell_type": "code",
   "execution_count": 29,
   "metadata": {},
   "outputs": [],
   "source": [
    "from sklearn.linear_model import LinearRegression\n",
    "lr = LinearRegression().fit(X_train, y_train)"
   ]
  },
  {
   "cell_type": "code",
   "execution_count": 30,
   "metadata": {},
   "outputs": [
    {
     "name": "stdout",
     "output_type": "stream",
     "text": [
      "훈련 세트 점수: 1.164155619759466e-05\n",
      "테스트 세트 점수: -68.18953052856054\n"
     ]
    }
   ],
   "source": [
    "print(\"훈련 세트 점수:\",lr.score(X_train, y_train))\n",
    "print(\"테스트 세트 점수:\",lr.score(X_test, y_test))"
   ]
  },
  {
   "cell_type": "code",
   "execution_count": 31,
   "metadata": {},
   "outputs": [
    {
     "name": "stdout",
     "output_type": "stream",
     "text": [
      "rmse: 80760.61026048251\n"
     ]
    }
   ],
   "source": [
    "lr.coef_ \n",
    "lr.intercept_ \n",
    "y_test_prediction = lr.predict(X_test) \n",
    "print(\"rmse:\",mean_squared_error(y_test, y_test_prediction) ** 0.5)"
   ]
  },
  {
   "cell_type": "markdown",
   "metadata": {},
   "source": [
    "* Ridge 모델"
   ]
  },
  {
   "cell_type": "code",
   "execution_count": 32,
   "metadata": {},
   "outputs": [],
   "source": [
    "from sklearn.linear_model import Ridge\n",
    "ridge = Ridge(alpha=0.1).fit(X_train, y_train)"
   ]
  },
  {
   "cell_type": "code",
   "execution_count": 33,
   "metadata": {},
   "outputs": [
    {
     "name": "stdout",
     "output_type": "stream",
     "text": [
      "훈련 세트 점수: 1.1641556196373415e-05\n",
      "테스트 세트 점수: -68.18953606303619\n"
     ]
    }
   ],
   "source": [
    "print(\"훈련 세트 점수:\",ridge.score(X_train, y_train))\n",
    "print(\"테스트 세트 점수:\",ridge.score(X_test, y_test))"
   ]
  },
  {
   "cell_type": "code",
   "execution_count": 34,
   "metadata": {},
   "outputs": [
    {
     "name": "stdout",
     "output_type": "stream",
     "text": [
      "rmse: 80760.61349050603\n"
     ]
    }
   ],
   "source": [
    "ridge.coef_ \n",
    "ridge.intercept_ \n",
    "y_test_prediction = ridge.predict(X_test) \n",
    "print(\"rmse:\",mean_squared_error(y_test, y_test_prediction) ** 0.5) "
   ]
  },
  {
   "cell_type": "markdown",
   "metadata": {},
   "source": [
    "* Lasso 모델"
   ]
  },
  {
   "cell_type": "code",
   "execution_count": 35,
   "metadata": {},
   "outputs": [],
   "source": [
    "from sklearn.linear_model import Lasso\n",
    "lasso = Lasso().fit(X_train, y_train)"
   ]
  },
  {
   "cell_type": "code",
   "execution_count": 36,
   "metadata": {},
   "outputs": [
    {
     "name": "stdout",
     "output_type": "stream",
     "text": [
      "훈련 세트 점수: 1.1641556175612244e-05\n",
      "테스트 세트 점수: -68.18955338262742\n"
     ]
    }
   ],
   "source": [
    "print(\"훈련 세트 점수:\",lasso.score(X_train, y_train))\n",
    "print(\"테스트 세트 점수:\",lasso.score(X_test, y_test))"
   ]
  },
  {
   "cell_type": "code",
   "execution_count": 37,
   "metadata": {},
   "outputs": [
    {
     "name": "stdout",
     "output_type": "stream",
     "text": [
      "rmse: 80760.62359854263\n"
     ]
    }
   ],
   "source": [
    "lasso.coef_ \n",
    "lasso.intercept_ \n",
    "y_test_prediction = lasso.predict(X_test) \n",
    "print(\"rmse:\",mean_squared_error(y_test, y_test_prediction) ** 0.5) "
   ]
  },
  {
   "cell_type": "markdown",
   "metadata": {},
   "source": [
    "## 장르별(다큐멘터리) 상영 등급, 스태프 수, 시간별 관람객 수"
   ]
  },
  {
   "cell_type": "code",
   "execution_count": 38,
   "metadata": {},
   "outputs": [],
   "source": [
    "data=rate.join([staff,time])"
   ]
  },
  {
   "cell_type": "code",
   "execution_count": 39,
   "metadata": {},
   "outputs": [
    {
     "data": {
      "text/html": [
       "<div>\n",
       "<style scoped>\n",
       "    .dataframe tbody tr th:only-of-type {\n",
       "        vertical-align: middle;\n",
       "    }\n",
       "\n",
       "    .dataframe tbody tr th {\n",
       "        vertical-align: top;\n",
       "    }\n",
       "\n",
       "    .dataframe thead th {\n",
       "        text-align: right;\n",
       "    }\n",
       "</style>\n",
       "<table border=\"1\" class=\"dataframe\">\n",
       "  <thead>\n",
       "    <tr style=\"text-align: right;\">\n",
       "      <th></th>\n",
       "      <th>12세 관람가</th>\n",
       "      <th>15세 관람가</th>\n",
       "      <th>전체 관람가</th>\n",
       "      <th>청소년 관람불가</th>\n",
       "      <th>num_staff</th>\n",
       "      <th>time</th>\n",
       "    </tr>\n",
       "  </thead>\n",
       "  <tbody>\n",
       "    <tr>\n",
       "      <th>0</th>\n",
       "      <td>0</td>\n",
       "      <td>0</td>\n",
       "      <td>1</td>\n",
       "      <td>0</td>\n",
       "      <td>32</td>\n",
       "      <td>104</td>\n",
       "    </tr>\n",
       "    <tr>\n",
       "      <th>1</th>\n",
       "      <td>1</td>\n",
       "      <td>0</td>\n",
       "      <td>0</td>\n",
       "      <td>0</td>\n",
       "      <td>2</td>\n",
       "      <td>94</td>\n",
       "    </tr>\n",
       "    <tr>\n",
       "      <th>2</th>\n",
       "      <td>0</td>\n",
       "      <td>0</td>\n",
       "      <td>1</td>\n",
       "      <td>0</td>\n",
       "      <td>20</td>\n",
       "      <td>84</td>\n",
       "    </tr>\n",
       "    <tr>\n",
       "      <th>3</th>\n",
       "      <td>0</td>\n",
       "      <td>0</td>\n",
       "      <td>1</td>\n",
       "      <td>0</td>\n",
       "      <td>9</td>\n",
       "      <td>107</td>\n",
       "    </tr>\n",
       "    <tr>\n",
       "      <th>4</th>\n",
       "      <td>0</td>\n",
       "      <td>1</td>\n",
       "      <td>0</td>\n",
       "      <td>0</td>\n",
       "      <td>15</td>\n",
       "      <td>82</td>\n",
       "    </tr>\n",
       "    <tr>\n",
       "      <th>...</th>\n",
       "      <td>...</td>\n",
       "      <td>...</td>\n",
       "      <td>...</td>\n",
       "      <td>...</td>\n",
       "      <td>...</td>\n",
       "      <td>...</td>\n",
       "    </tr>\n",
       "    <tr>\n",
       "      <th>88</th>\n",
       "      <td>1</td>\n",
       "      <td>0</td>\n",
       "      <td>0</td>\n",
       "      <td>0</td>\n",
       "      <td>139</td>\n",
       "      <td>95</td>\n",
       "    </tr>\n",
       "    <tr>\n",
       "      <th>89</th>\n",
       "      <td>1</td>\n",
       "      <td>0</td>\n",
       "      <td>0</td>\n",
       "      <td>0</td>\n",
       "      <td>1</td>\n",
       "      <td>89</td>\n",
       "    </tr>\n",
       "    <tr>\n",
       "      <th>90</th>\n",
       "      <td>0</td>\n",
       "      <td>1</td>\n",
       "      <td>0</td>\n",
       "      <td>0</td>\n",
       "      <td>0</td>\n",
       "      <td>72</td>\n",
       "    </tr>\n",
       "    <tr>\n",
       "      <th>91</th>\n",
       "      <td>1</td>\n",
       "      <td>0</td>\n",
       "      <td>0</td>\n",
       "      <td>0</td>\n",
       "      <td>8</td>\n",
       "      <td>108</td>\n",
       "    </tr>\n",
       "    <tr>\n",
       "      <th>92</th>\n",
       "      <td>0</td>\n",
       "      <td>0</td>\n",
       "      <td>1</td>\n",
       "      <td>0</td>\n",
       "      <td>4</td>\n",
       "      <td>70</td>\n",
       "    </tr>\n",
       "  </tbody>\n",
       "</table>\n",
       "<p>93 rows × 6 columns</p>\n",
       "</div>"
      ],
      "text/plain": [
       "    12세 관람가  15세 관람가  전체 관람가  청소년 관람불가  num_staff  time\n",
       "0         0        0       1         0         32   104\n",
       "1         1        0       0         0          2    94\n",
       "2         0        0       1         0         20    84\n",
       "3         0        0       1         0          9   107\n",
       "4         0        1       0         0         15    82\n",
       "..      ...      ...     ...       ...        ...   ...\n",
       "88        1        0       0         0        139    95\n",
       "89        1        0       0         0          1    89\n",
       "90        0        1       0         0          0    72\n",
       "91        1        0       0         0          8   108\n",
       "92        0        0       1         0          4    70\n",
       "\n",
       "[93 rows x 6 columns]"
      ]
     },
     "execution_count": 39,
     "metadata": {},
     "output_type": "execute_result"
    }
   ],
   "source": [
    "data"
   ]
  },
  {
   "cell_type": "code",
   "execution_count": 40,
   "metadata": {},
   "outputs": [],
   "source": [
    "X=data.values\n",
    "X_train, X_test, y_train, y_test = train_test_split(X,y)"
   ]
  },
  {
   "cell_type": "markdown",
   "metadata": {},
   "source": [
    "* LinearRegression 모델"
   ]
  },
  {
   "cell_type": "code",
   "execution_count": 41,
   "metadata": {},
   "outputs": [],
   "source": [
    "lr = LinearRegression().fit(X_train, y_train)"
   ]
  },
  {
   "cell_type": "code",
   "execution_count": 42,
   "metadata": {},
   "outputs": [
    {
     "name": "stdout",
     "output_type": "stream",
     "text": [
      "훈련 세트 점수: 0.01691368549101735\n",
      "테스트 세트 점수: -123.05473591827202\n"
     ]
    }
   ],
   "source": [
    "print(\"훈련 세트 점수:\",lr.score(X_train, y_train))\n",
    "print(\"테스트 세트 점수:\",lr.score(X_test, y_test))"
   ]
  },
  {
   "cell_type": "code",
   "execution_count": 43,
   "metadata": {},
   "outputs": [
    {
     "name": "stdout",
     "output_type": "stream",
     "text": [
      "rmse: 127754.65126885806\n"
     ]
    }
   ],
   "source": [
    "lr.coef_ \n",
    "lr.intercept_ \n",
    "y_test_prediction = lr.predict(X_test) \n",
    "print(\"rmse:\",mean_squared_error(y_test, y_test_prediction) ** 0.5)"
   ]
  },
  {
   "cell_type": "markdown",
   "metadata": {},
   "source": [
    "* Ridge 모델"
   ]
  },
  {
   "cell_type": "code",
   "execution_count": 44,
   "metadata": {},
   "outputs": [],
   "source": [
    "ridge = Ridge(alpha=0.1).fit(X_train, y_train)"
   ]
  },
  {
   "cell_type": "code",
   "execution_count": 45,
   "metadata": {},
   "outputs": [
    {
     "name": "stdout",
     "output_type": "stream",
     "text": [
      "훈련 세트 점수: 0.016912591332331584\n",
      "테스트 세트 점수: -122.4627862115439\n"
     ]
    }
   ],
   "source": [
    "print(\"훈련 세트 점수:\",ridge.score(X_train, y_train))\n",
    "print(\"테스트 세트 점수:\",ridge.score(X_test, y_test))"
   ]
  },
  {
   "cell_type": "code",
   "execution_count": 46,
   "metadata": {},
   "outputs": [
    {
     "name": "stdout",
     "output_type": "stream",
     "text": [
      "rmse: 127449.48453146563\n"
     ]
    }
   ],
   "source": [
    "ridge.coef_ \n",
    "ridge.intercept_ \n",
    "y_test_prediction = ridge.predict(X_test) \n",
    "print(\"rmse:\",mean_squared_error(y_test, y_test_prediction) ** 0.5) "
   ]
  },
  {
   "cell_type": "markdown",
   "metadata": {},
   "source": [
    "* Lasso 모델"
   ]
  },
  {
   "cell_type": "code",
   "execution_count": 47,
   "metadata": {},
   "outputs": [
    {
     "name": "stderr",
     "output_type": "stream",
     "text": [
      "C:\\Users\\shinyoungmin\\anaconda3\\lib\\site-packages\\sklearn\\linear_model\\_coordinate_descent.py:529: ConvergenceWarning: Objective did not converge. You might want to increase the number of iterations. Duality gap: 22758894500.91797, tolerance: 2277492065.888495\n",
      "  model = cd_fast.enet_coordinate_descent(\n"
     ]
    }
   ],
   "source": [
    "lasso = Lasso().fit(X_train, y_train)"
   ]
  },
  {
   "cell_type": "code",
   "execution_count": 48,
   "metadata": {},
   "outputs": [
    {
     "name": "stdout",
     "output_type": "stream",
     "text": [
      "훈련 세트 점수: 0.01691368526252557\n",
      "테스트 세트 점수: -123.05061078202583\n"
     ]
    }
   ],
   "source": [
    "print(\"훈련 세트 점수:\",lasso.score(X_train, y_train))\n",
    "print(\"테스트 세트 점수:\",lasso.score(X_test, y_test))"
   ]
  },
  {
   "cell_type": "code",
   "execution_count": 49,
   "metadata": {},
   "outputs": [
    {
     "name": "stdout",
     "output_type": "stream",
     "text": [
      "rmse: 127752.5271672677\n"
     ]
    }
   ],
   "source": [
    "lasso.coef_ \n",
    "lasso.intercept_ \n",
    "y_test_prediction = lasso.predict(X_test) \n",
    "print(\"rmse:\",mean_squared_error(y_test, y_test_prediction) ** 0.5) "
   ]
  },
  {
   "cell_type": "code",
   "execution_count": null,
   "metadata": {},
   "outputs": [],
   "source": []
  }
 ],
 "metadata": {
  "kernelspec": {
   "display_name": "Python 3",
   "language": "python",
   "name": "python3"
  },
  "language_info": {
   "codemirror_mode": {
    "name": "ipython",
    "version": 3
   },
   "file_extension": ".py",
   "mimetype": "text/x-python",
   "name": "python",
   "nbconvert_exporter": "python",
   "pygments_lexer": "ipython3",
   "version": "3.8.5"
  }
 },
 "nbformat": 4,
 "nbformat_minor": 4
}
