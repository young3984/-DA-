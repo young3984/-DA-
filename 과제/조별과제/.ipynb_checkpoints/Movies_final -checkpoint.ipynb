{
 "cells": [
  {
   "cell_type": "code",
   "execution_count": 1,
   "metadata": {},
   "outputs": [],
   "source": [
    "import pandas as pd\n",
    "import numpy as np\n",
    "import matplotlib\n",
    "import matplotlib.pyplot as plt\n",
    "from pandas import Series, DataFrame\n",
    "import seaborn as sns\n",
    "from sklearn.metrics import mean_squared_error"
   ]
  },
  {
   "cell_type": "code",
   "execution_count": 2,
   "metadata": {},
   "outputs": [],
   "source": [
    "movies=pd.read_csv(\"movies.csv\")"
   ]
  },
  {
   "cell_type": "code",
   "execution_count": 3,
   "metadata": {},
   "outputs": [
    {
     "name": "stdout",
     "output_type": "stream",
     "text": [
      "청소년 관람불가    204\n",
      "15세 관람가     202\n",
      "12세 관람가     102\n",
      "전체 관람가       92\n",
      "Name: screening_rat, dtype: int64\n"
     ]
    }
   ],
   "source": [
    "print(movies.screening_rat.value_counts())"
   ]
  },
  {
   "cell_type": "code",
   "execution_count": 4,
   "metadata": {},
   "outputs": [],
   "source": [
    "target=movies.box_off_num\n",
    "rate=movies.screening_rat\n",
    "staff=movies[['num_staff']]\n",
    "time=movies[['time']]"
   ]
  },
  {
   "cell_type": "code",
   "execution_count": 5,
   "metadata": {},
   "outputs": [],
   "source": [
    "rate=pd.get_dummies(rate)"
   ]
  },
  {
   "cell_type": "markdown",
   "metadata": {},
   "source": [
    "## 장르별 상영등급별 관람객 수"
   ]
  },
  {
   "cell_type": "code",
   "execution_count": 6,
   "metadata": {},
   "outputs": [],
   "source": [
    "X=rate.values\n",
    "y=target.values\n",
    "from sklearn.model_selection import train_test_split\n",
    "X_train, X_test, y_train, y_test = train_test_split(X,y,random_state=0)"
   ]
  },
  {
   "cell_type": "markdown",
   "metadata": {},
   "source": [
    "* LinearRegression 모델"
   ]
  },
  {
   "cell_type": "code",
   "execution_count": 7,
   "metadata": {},
   "outputs": [],
   "source": [
    "from sklearn.linear_model import LinearRegression\n",
    "lr = LinearRegression().fit(X_train, y_train)"
   ]
  },
  {
   "cell_type": "code",
   "execution_count": 8,
   "metadata": {},
   "outputs": [
    {
     "name": "stdout",
     "output_type": "stream",
     "text": [
      "훈련 세트 점수: 0.052229236930742884\n",
      "테스트 세트 점수: 0.06403092707966518\n"
     ]
    }
   ],
   "source": [
    "print(\"훈련 세트 점수:\",lr.score(X_train, y_train))\n",
    "print(\"테스트 세트 점수:\",lr.score(X_test, y_test))"
   ]
  },
  {
   "cell_type": "code",
   "execution_count": 9,
   "metadata": {},
   "outputs": [
    {
     "name": "stdout",
     "output_type": "stream",
     "text": [
      "rmse: 1777291.3858171748\n"
     ]
    }
   ],
   "source": [
    "lr.coef_ #θ1의 값\n",
    "lr.intercept_ #θ0의 값\n",
    "y_test_prediction = lr.predict(X_test) #test set에 대한 예측값\n",
    "print(\"rmse:\",mean_squared_error(y_test, y_test_prediction) ** 0.5) #평균 제곱근 오차"
   ]
  },
  {
   "cell_type": "markdown",
   "metadata": {},
   "source": [
    "* Ridge 모델"
   ]
  },
  {
   "cell_type": "code",
   "execution_count": 10,
   "metadata": {},
   "outputs": [],
   "source": [
    "from sklearn.linear_model import Ridge\n",
    "ridge = Ridge(alpha=0.1).fit(X_train, y_train)"
   ]
  },
  {
   "cell_type": "code",
   "execution_count": 11,
   "metadata": {},
   "outputs": [
    {
     "name": "stdout",
     "output_type": "stream",
     "text": [
      "훈련 세트 점수: 0.05222918846339564\n",
      "테스트 세트 점수: 0.06401997324141229\n"
     ]
    }
   ],
   "source": [
    "print(\"훈련 세트 점수:\",ridge.score(X_train, y_train))\n",
    "print(\"테스트 세트 점수:\",ridge.score(X_test, y_test))"
   ]
  },
  {
   "cell_type": "code",
   "execution_count": 12,
   "metadata": {},
   "outputs": [
    {
     "name": "stdout",
     "output_type": "stream",
     "text": [
      "rmse: 1777301.7857897659\n"
     ]
    }
   ],
   "source": [
    "ridge.coef_ \n",
    "ridge.intercept_ \n",
    "y_test_prediction = ridge.predict(X_test) \n",
    "print(\"rmse:\",mean_squared_error(y_test, y_test_prediction) ** 0.5) "
   ]
  },
  {
   "cell_type": "markdown",
   "metadata": {},
   "source": [
    "* Lasso 모델"
   ]
  },
  {
   "cell_type": "code",
   "execution_count": 13,
   "metadata": {},
   "outputs": [],
   "source": [
    "from sklearn.linear_model import Lasso\n",
    "lasso = Lasso().fit(X_train, y_train)"
   ]
  },
  {
   "cell_type": "code",
   "execution_count": 14,
   "metadata": {},
   "outputs": [
    {
     "name": "stdout",
     "output_type": "stream",
     "text": [
      "훈련 세트 점수: 0.05222923692511561\n",
      "테스트 세트 점수: 0.06403093426645734\n"
     ]
    }
   ],
   "source": [
    "print(\"훈련 세트 점수:\",lasso.score(X_train, y_train))\n",
    "print(\"테스트 세트 점수:\",lasso.score(X_test, y_test))"
   ]
  },
  {
   "cell_type": "code",
   "execution_count": 15,
   "metadata": {},
   "outputs": [
    {
     "name": "stdout",
     "output_type": "stream",
     "text": [
      "rmse: 1777291.3789937529\n"
     ]
    }
   ],
   "source": [
    "lasso.coef_ \n",
    "lasso.intercept_ \n",
    "y_test_prediction = lasso.predict(X_test) \n",
    "print(\"rmse:\",mean_squared_error(y_test, y_test_prediction) ** 0.5) "
   ]
  },
  {
   "cell_type": "markdown",
   "metadata": {},
   "source": [
    "## 장르별 스태프수 별 관람객 수"
   ]
  },
  {
   "cell_type": "code",
   "execution_count": 16,
   "metadata": {},
   "outputs": [],
   "source": [
    "X=staff.values\n",
    "from sklearn.model_selection import train_test_split\n",
    "X_train, X_test, y_train, y_test = train_test_split(X,y,random_state=0)"
   ]
  },
  {
   "cell_type": "markdown",
   "metadata": {},
   "source": [
    "* LinearRegression 모델"
   ]
  },
  {
   "cell_type": "code",
   "execution_count": 17,
   "metadata": {},
   "outputs": [],
   "source": [
    "from sklearn.linear_model import LinearRegression\n",
    "lr = LinearRegression().fit(X_train, y_train)"
   ]
  },
  {
   "cell_type": "code",
   "execution_count": 18,
   "metadata": {},
   "outputs": [
    {
     "name": "stdout",
     "output_type": "stream",
     "text": [
      "훈련 세트 점수: 0.3128929614812451\n",
      "테스트 세트 점수: 0.2425784430778425\n"
     ]
    }
   ],
   "source": [
    "print(\"훈련 세트 점수:\",lr.score(X_train, y_train))\n",
    "print(\"테스트 세트 점수:\",lr.score(X_test, y_test))"
   ]
  },
  {
   "cell_type": "code",
   "execution_count": 19,
   "metadata": {},
   "outputs": [
    {
     "name": "stdout",
     "output_type": "stream",
     "text": [
      "rmse: 1598809.4896227105\n"
     ]
    }
   ],
   "source": [
    "lr.coef_ \n",
    "lr.intercept_ \n",
    "y_test_prediction = lr.predict(X_test) \n",
    "print(\"rmse:\",mean_squared_error(y_test, y_test_prediction) ** 0.5)"
   ]
  },
  {
   "cell_type": "markdown",
   "metadata": {},
   "source": [
    "* Ridge 모델"
   ]
  },
  {
   "cell_type": "code",
   "execution_count": 20,
   "metadata": {},
   "outputs": [],
   "source": [
    "from sklearn.linear_model import Ridge\n",
    "ridge = Ridge(alpha=0.1).fit(X_train, y_train)"
   ]
  },
  {
   "cell_type": "code",
   "execution_count": 21,
   "metadata": {},
   "outputs": [
    {
     "name": "stdout",
     "output_type": "stream",
     "text": [
      "훈련 세트 점수: 0.3128929614812449\n",
      "테스트 세트 점수: 0.24257844353639246\n"
     ]
    }
   ],
   "source": [
    "print(\"훈련 세트 점수:\",ridge.score(X_train, y_train))\n",
    "print(\"테스트 세트 점수:\",ridge.score(X_test, y_test))"
   ]
  },
  {
   "cell_type": "code",
   "execution_count": 22,
   "metadata": {},
   "outputs": [
    {
     "name": "stdout",
     "output_type": "stream",
     "text": [
      "rmse: 1598809.4891387434\n"
     ]
    }
   ],
   "source": [
    "ridge.coef_ \n",
    "ridge.intercept_ \n",
    "y_test_prediction = ridge.predict(X_test) \n",
    "print(\"rmse:\",mean_squared_error(y_test, y_test_prediction) ** 0.5) "
   ]
  },
  {
   "cell_type": "markdown",
   "metadata": {},
   "source": [
    "* Lasso 모델"
   ]
  },
  {
   "cell_type": "code",
   "execution_count": 23,
   "metadata": {},
   "outputs": [],
   "source": [
    "from sklearn.linear_model import Lasso\n",
    "lasso = Lasso().fit(X_train, y_train)"
   ]
  },
  {
   "cell_type": "code",
   "execution_count": 24,
   "metadata": {},
   "outputs": [
    {
     "name": "stdout",
     "output_type": "stream",
     "text": [
      "훈련 세트 점수: 0.3128929614812451\n",
      "테스트 세트 점수: 0.24257844341344836\n"
     ]
    }
   ],
   "source": [
    "print(\"훈련 세트 점수:\",lasso.score(X_train, y_train))\n",
    "print(\"테스트 세트 점수:\",lasso.score(X_test, y_test))"
   ]
  },
  {
   "cell_type": "code",
   "execution_count": 25,
   "metadata": {},
   "outputs": [
    {
     "name": "stdout",
     "output_type": "stream",
     "text": [
      "rmse: 1598809.4892685022\n"
     ]
    }
   ],
   "source": [
    "lasso.coef_ \n",
    "lasso.intercept_ \n",
    "y_test_prediction = lasso.predict(X_test) \n",
    "print(\"rmse:\",mean_squared_error(y_test, y_test_prediction) ** 0.5) "
   ]
  },
  {
   "cell_type": "markdown",
   "metadata": {},
   "source": [
    "## 장르별 시간별 관람객 수"
   ]
  },
  {
   "cell_type": "code",
   "execution_count": 26,
   "metadata": {},
   "outputs": [],
   "source": [
    "X=time.values\n",
    "X_train, X_test, y_train, y_test = train_test_split(X,y,random_state=0)"
   ]
  },
  {
   "cell_type": "markdown",
   "metadata": {},
   "source": [
    "* LinearRegression 모델"
   ]
  },
  {
   "cell_type": "code",
   "execution_count": 27,
   "metadata": {},
   "outputs": [],
   "source": [
    "from sklearn.linear_model import LinearRegression\n",
    "lr = LinearRegression().fit(X_train, y_train)"
   ]
  },
  {
   "cell_type": "code",
   "execution_count": 28,
   "metadata": {},
   "outputs": [
    {
     "name": "stdout",
     "output_type": "stream",
     "text": [
      "훈련 세트 점수: 0.21680082719161475\n",
      "테스트 세트 점수: 0.12088083121522808\n"
     ]
    }
   ],
   "source": [
    "print(\"훈련 세트 점수:\",lr.score(X_train, y_train))\n",
    "print(\"테스트 세트 점수:\",lr.score(X_test, y_test))"
   ]
  },
  {
   "cell_type": "code",
   "execution_count": 29,
   "metadata": {},
   "outputs": [
    {
     "name": "stdout",
     "output_type": "stream",
     "text": [
      "rmse: 1722470.3763741695\n"
     ]
    }
   ],
   "source": [
    "lr.coef_ \n",
    "lr.intercept_ \n",
    "y_test_prediction = lr.predict(X_test) \n",
    "print(\"rmse:\",mean_squared_error(y_test, y_test_prediction) ** 0.5)"
   ]
  },
  {
   "cell_type": "markdown",
   "metadata": {},
   "source": [
    "* Ridge 모델"
   ]
  },
  {
   "cell_type": "code",
   "execution_count": 30,
   "metadata": {},
   "outputs": [],
   "source": [
    "from sklearn.linear_model import Ridge\n",
    "ridge = Ridge(alpha=0.1).fit(X_train, y_train)"
   ]
  },
  {
   "cell_type": "code",
   "execution_count": 31,
   "metadata": {},
   "outputs": [
    {
     "name": "stdout",
     "output_type": "stream",
     "text": [
      "훈련 세트 점수: 0.21680082719151084\n",
      "테스트 세트 점수: 0.12088090083245362\n"
     ]
    }
   ],
   "source": [
    "print(\"훈련 세트 점수:\",ridge.score(X_train, y_train))\n",
    "print(\"테스트 세트 점수:\",ridge.score(X_test, y_test))"
   ]
  },
  {
   "cell_type": "code",
   "execution_count": 32,
   "metadata": {},
   "outputs": [
    {
     "name": "stdout",
     "output_type": "stream",
     "text": [
      "rmse: 1722470.3081731708\n"
     ]
    }
   ],
   "source": [
    "ridge.coef_ \n",
    "ridge.intercept_ \n",
    "y_test_prediction = ridge.predict(X_test) \n",
    "print(\"rmse:\",mean_squared_error(y_test, y_test_prediction) ** 0.5) "
   ]
  },
  {
   "cell_type": "markdown",
   "metadata": {},
   "source": [
    "* Lasso 모델"
   ]
  },
  {
   "cell_type": "code",
   "execution_count": 33,
   "metadata": {},
   "outputs": [],
   "source": [
    "from sklearn.linear_model import Lasso\n",
    "lasso = Lasso().fit(X_train, y_train)"
   ]
  },
  {
   "cell_type": "code",
   "execution_count": 34,
   "metadata": {},
   "outputs": [
    {
     "name": "stdout",
     "output_type": "stream",
     "text": [
      "훈련 세트 점수: 0.21680082719161387\n",
      "테스트 세트 점수: 0.1208808378349554\n"
     ]
    }
   ],
   "source": [
    "print(\"훈련 세트 점수:\",lasso.score(X_train, y_train))\n",
    "print(\"테스트 세트 점수:\",lasso.score(X_test, y_test))"
   ]
  },
  {
   "cell_type": "code",
   "execution_count": 35,
   "metadata": {},
   "outputs": [
    {
     "name": "stdout",
     "output_type": "stream",
     "text": [
      "rmse: 1722470.3698891078\n"
     ]
    }
   ],
   "source": [
    "lasso.coef_ \n",
    "lasso.intercept_ \n",
    "y_test_prediction = lasso.predict(X_test) \n",
    "print(\"rmse:\",mean_squared_error(y_test, y_test_prediction) ** 0.5) "
   ]
  },
  {
   "cell_type": "markdown",
   "metadata": {},
   "source": [
    "## 장르별 상영 등급, 스태프 수, 시간별 관람객 수"
   ]
  },
  {
   "cell_type": "code",
   "execution_count": 36,
   "metadata": {},
   "outputs": [],
   "source": [
    "data=rate.join([staff,time])"
   ]
  },
  {
   "cell_type": "code",
   "execution_count": 37,
   "metadata": {},
   "outputs": [
    {
     "data": {
      "text/html": [
       "<div>\n",
       "<style scoped>\n",
       "    .dataframe tbody tr th:only-of-type {\n",
       "        vertical-align: middle;\n",
       "    }\n",
       "\n",
       "    .dataframe tbody tr th {\n",
       "        vertical-align: top;\n",
       "    }\n",
       "\n",
       "    .dataframe thead th {\n",
       "        text-align: right;\n",
       "    }\n",
       "</style>\n",
       "<table border=\"1\" class=\"dataframe\">\n",
       "  <thead>\n",
       "    <tr style=\"text-align: right;\">\n",
       "      <th></th>\n",
       "      <th>12세 관람가</th>\n",
       "      <th>15세 관람가</th>\n",
       "      <th>전체 관람가</th>\n",
       "      <th>청소년 관람불가</th>\n",
       "      <th>num_staff</th>\n",
       "      <th>time</th>\n",
       "    </tr>\n",
       "  </thead>\n",
       "  <tbody>\n",
       "    <tr>\n",
       "      <th>0</th>\n",
       "      <td>0</td>\n",
       "      <td>0</td>\n",
       "      <td>0</td>\n",
       "      <td>1</td>\n",
       "      <td>91</td>\n",
       "      <td>96</td>\n",
       "    </tr>\n",
       "    <tr>\n",
       "      <th>1</th>\n",
       "      <td>0</td>\n",
       "      <td>0</td>\n",
       "      <td>0</td>\n",
       "      <td>1</td>\n",
       "      <td>387</td>\n",
       "      <td>130</td>\n",
       "    </tr>\n",
       "    <tr>\n",
       "      <th>2</th>\n",
       "      <td>0</td>\n",
       "      <td>1</td>\n",
       "      <td>0</td>\n",
       "      <td>0</td>\n",
       "      <td>343</td>\n",
       "      <td>123</td>\n",
       "    </tr>\n",
       "    <tr>\n",
       "      <th>3</th>\n",
       "      <td>0</td>\n",
       "      <td>0</td>\n",
       "      <td>1</td>\n",
       "      <td>0</td>\n",
       "      <td>20</td>\n",
       "      <td>101</td>\n",
       "    </tr>\n",
       "    <tr>\n",
       "      <th>4</th>\n",
       "      <td>0</td>\n",
       "      <td>1</td>\n",
       "      <td>0</td>\n",
       "      <td>0</td>\n",
       "      <td>251</td>\n",
       "      <td>108</td>\n",
       "    </tr>\n",
       "    <tr>\n",
       "      <th>...</th>\n",
       "      <td>...</td>\n",
       "      <td>...</td>\n",
       "      <td>...</td>\n",
       "      <td>...</td>\n",
       "      <td>...</td>\n",
       "      <td>...</td>\n",
       "    </tr>\n",
       "    <tr>\n",
       "      <th>595</th>\n",
       "      <td>0</td>\n",
       "      <td>0</td>\n",
       "      <td>0</td>\n",
       "      <td>1</td>\n",
       "      <td>510</td>\n",
       "      <td>111</td>\n",
       "    </tr>\n",
       "    <tr>\n",
       "      <th>596</th>\n",
       "      <td>0</td>\n",
       "      <td>1</td>\n",
       "      <td>0</td>\n",
       "      <td>0</td>\n",
       "      <td>286</td>\n",
       "      <td>127</td>\n",
       "    </tr>\n",
       "    <tr>\n",
       "      <th>597</th>\n",
       "      <td>0</td>\n",
       "      <td>0</td>\n",
       "      <td>0</td>\n",
       "      <td>1</td>\n",
       "      <td>123</td>\n",
       "      <td>99</td>\n",
       "    </tr>\n",
       "    <tr>\n",
       "      <th>598</th>\n",
       "      <td>0</td>\n",
       "      <td>1</td>\n",
       "      <td>0</td>\n",
       "      <td>0</td>\n",
       "      <td>431</td>\n",
       "      <td>102</td>\n",
       "    </tr>\n",
       "    <tr>\n",
       "      <th>599</th>\n",
       "      <td>0</td>\n",
       "      <td>1</td>\n",
       "      <td>0</td>\n",
       "      <td>0</td>\n",
       "      <td>363</td>\n",
       "      <td>120</td>\n",
       "    </tr>\n",
       "  </tbody>\n",
       "</table>\n",
       "<p>600 rows × 6 columns</p>\n",
       "</div>"
      ],
      "text/plain": [
       "     12세 관람가  15세 관람가  전체 관람가  청소년 관람불가  num_staff  time\n",
       "0          0        0       0         1         91    96\n",
       "1          0        0       0         1        387   130\n",
       "2          0        1       0         0        343   123\n",
       "3          0        0       1         0         20   101\n",
       "4          0        1       0         0        251   108\n",
       "..       ...      ...     ...       ...        ...   ...\n",
       "595        0        0       0         1        510   111\n",
       "596        0        1       0         0        286   127\n",
       "597        0        0       0         1        123    99\n",
       "598        0        1       0         0        431   102\n",
       "599        0        1       0         0        363   120\n",
       "\n",
       "[600 rows x 6 columns]"
      ]
     },
     "execution_count": 37,
     "metadata": {},
     "output_type": "execute_result"
    }
   ],
   "source": [
    "data"
   ]
  },
  {
   "cell_type": "code",
   "execution_count": 38,
   "metadata": {},
   "outputs": [],
   "source": [
    "X=data.values\n",
    "X_train, X_test, y_train, y_test = train_test_split(X,y)"
   ]
  },
  {
   "cell_type": "markdown",
   "metadata": {},
   "source": [
    "* LinearRegression 모델"
   ]
  },
  {
   "cell_type": "code",
   "execution_count": 39,
   "metadata": {},
   "outputs": [],
   "source": [
    "lr = LinearRegression().fit(X_train, y_train)"
   ]
  },
  {
   "cell_type": "code",
   "execution_count": 40,
   "metadata": {},
   "outputs": [
    {
     "name": "stdout",
     "output_type": "stream",
     "text": [
      "훈련 세트 점수: 0.34185843662384785\n",
      "테스트 세트 점수: 0.1009182910086931\n"
     ]
    }
   ],
   "source": [
    "print(\"훈련 세트 점수:\",lr.score(X_train, y_train))\n",
    "print(\"테스트 세트 점수:\",lr.score(X_test, y_test))"
   ]
  },
  {
   "cell_type": "code",
   "execution_count": 41,
   "metadata": {},
   "outputs": [
    {
     "name": "stdout",
     "output_type": "stream",
     "text": [
      "rmse: 1166153.6664920298\n"
     ]
    }
   ],
   "source": [
    "lr.coef_ \n",
    "lr.intercept_ \n",
    "y_test_prediction = lr.predict(X_test) \n",
    "print(\"rmse:\",mean_squared_error(y_test, y_test_prediction) ** 0.5)"
   ]
  },
  {
   "cell_type": "markdown",
   "metadata": {},
   "source": [
    "* Ridge 모델"
   ]
  },
  {
   "cell_type": "code",
   "execution_count": 42,
   "metadata": {},
   "outputs": [],
   "source": [
    "ridge = Ridge(alpha=0.1).fit(X_train, y_train)"
   ]
  },
  {
   "cell_type": "code",
   "execution_count": 43,
   "metadata": {},
   "outputs": [
    {
     "name": "stdout",
     "output_type": "stream",
     "text": [
      "훈련 세트 점수: 0.34185842944181144\n",
      "테스트 세트 점수: 0.10097840814507819\n"
     ]
    }
   ],
   "source": [
    "print(\"훈련 세트 점수:\",ridge.score(X_train, y_train))\n",
    "print(\"테스트 세트 점수:\",ridge.score(X_test, y_test))"
   ]
  },
  {
   "cell_type": "code",
   "execution_count": 44,
   "metadata": {},
   "outputs": [
    {
     "name": "stdout",
     "output_type": "stream",
     "text": [
      "rmse: 1166114.6783832407\n"
     ]
    }
   ],
   "source": [
    "ridge.coef_ \n",
    "ridge.intercept_ \n",
    "y_test_prediction = ridge.predict(X_test) \n",
    "print(\"rmse:\",mean_squared_error(y_test, y_test_prediction) ** 0.5) "
   ]
  },
  {
   "cell_type": "markdown",
   "metadata": {},
   "source": [
    "* Lasso 모델"
   ]
  },
  {
   "cell_type": "code",
   "execution_count": 45,
   "metadata": {},
   "outputs": [],
   "source": [
    "lasso = Lasso().fit(X_train, y_train)"
   ]
  },
  {
   "cell_type": "code",
   "execution_count": 46,
   "metadata": {},
   "outputs": [
    {
     "name": "stdout",
     "output_type": "stream",
     "text": [
      "훈련 세트 점수: 0.341858436622148\n",
      "테스트 세트 점수: 0.10091881063763897\n"
     ]
    }
   ],
   "source": [
    "print(\"훈련 세트 점수:\",lasso.score(X_train, y_train))\n",
    "print(\"테스트 세트 점수:\",lasso.score(X_test, y_test))"
   ]
  },
  {
   "cell_type": "code",
   "execution_count": 47,
   "metadata": {},
   "outputs": [
    {
     "name": "stdout",
     "output_type": "stream",
     "text": [
      "rmse: 1166153.3294996952\n"
     ]
    }
   ],
   "source": [
    "lasso.coef_ \n",
    "lasso.intercept_ \n",
    "y_test_prediction = lasso.predict(X_test) \n",
    "print(\"rmse:\",mean_squared_error(y_test, y_test_prediction) ** 0.5) "
   ]
  },
  {
   "cell_type": "code",
   "execution_count": null,
   "metadata": {},
   "outputs": [],
   "source": []
  }
 ],
 "metadata": {
  "kernelspec": {
   "display_name": "Python 3",
   "language": "python",
   "name": "python3"
  },
  "language_info": {
   "codemirror_mode": {
    "name": "ipython",
    "version": 3
   },
   "file_extension": ".py",
   "mimetype": "text/x-python",
   "name": "python",
   "nbconvert_exporter": "python",
   "pygments_lexer": "ipython3",
   "version": "3.8.5"
  }
 },
 "nbformat": 4,
 "nbformat_minor": 4
}
