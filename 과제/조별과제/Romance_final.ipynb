{
 "cells": [
  {
   "cell_type": "code",
   "execution_count": 1,
   "metadata": {},
   "outputs": [],
   "source": [
    "import pandas as pd\n",
    "import numpy as np\n",
    "import matplotlib\n",
    "import matplotlib.pyplot as plt\n",
    "from pandas import Series, DataFrame\n",
    "import seaborn as sns\n",
    "from sklearn.metrics import mean_squared_error"
   ]
  },
  {
   "cell_type": "code",
   "execution_count": 2,
   "metadata": {},
   "outputs": [],
   "source": [
    "movies=pd.read_csv(\"movies.csv\")"
   ]
  },
  {
   "cell_type": "code",
   "execution_count": 3,
   "metadata": {},
   "outputs": [],
   "source": [
    "romance=movies[movies.genre.isin(['멜로/로맨스'])]"
   ]
  },
  {
   "cell_type": "code",
   "execution_count": 4,
   "metadata": {},
   "outputs": [],
   "source": [
    "romance=romance.reset_index(inplace=False)"
   ]
  },
  {
   "cell_type": "code",
   "execution_count": 5,
   "metadata": {},
   "outputs": [
    {
     "name": "stdout",
     "output_type": "stream",
     "text": [
      "청소년 관람불가    46\n",
      "15세 관람가     21\n",
      "12세 관람가     10\n",
      "전체 관람가       1\n",
      "Name: screening_rat, dtype: int64\n"
     ]
    }
   ],
   "source": [
    "print(romance.screening_rat.value_counts())"
   ]
  },
  {
   "cell_type": "code",
   "execution_count": 6,
   "metadata": {},
   "outputs": [],
   "source": [
    "target=romance.box_off_num\n",
    "rate=romance.screening_rat\n",
    "staff=romance[['num_staff']]\n",
    "time=romance[['time']]"
   ]
  },
  {
   "cell_type": "code",
   "execution_count": 7,
   "metadata": {},
   "outputs": [],
   "source": [
    "rate=pd.get_dummies(rate)"
   ]
  },
  {
   "cell_type": "markdown",
   "metadata": {},
   "source": [
    "## 장르별(로맨스) 상영등급별 관람객 수"
   ]
  },
  {
   "cell_type": "code",
   "execution_count": 8,
   "metadata": {},
   "outputs": [],
   "source": [
    "X=rate.values\n",
    "y=target.values\n",
    "from sklearn.model_selection import train_test_split\n",
    "X_train, X_test, y_train, y_test = train_test_split(X,y,random_state=0)"
   ]
  },
  {
   "cell_type": "markdown",
   "metadata": {},
   "source": [
    "* LinearRegression 모델"
   ]
  },
  {
   "cell_type": "code",
   "execution_count": 9,
   "metadata": {},
   "outputs": [],
   "source": [
    "from sklearn.linear_model import LinearRegression\n",
    "lr = LinearRegression().fit(X_train, y_train)"
   ]
  },
  {
   "cell_type": "code",
   "execution_count": 10,
   "metadata": {},
   "outputs": [
    {
     "name": "stdout",
     "output_type": "stream",
     "text": [
      "훈련 세트 점수: 0.3257559803901253\n",
      "테스트 세트 점수: 0.008142021302115277\n"
     ]
    }
   ],
   "source": [
    "print(\"훈련 세트 점수:\",lr.score(X_train, y_train))\n",
    "print(\"테스트 세트 점수:\",lr.score(X_test, y_test))"
   ]
  },
  {
   "cell_type": "code",
   "execution_count": 11,
   "metadata": {},
   "outputs": [
    {
     "name": "stdout",
     "output_type": "stream",
     "text": [
      "rmse: 1247332.7248990142\n"
     ]
    }
   ],
   "source": [
    "lr.coef_ #θ1의 값\n",
    "lr.intercept_ #θ0의 값\n",
    "y_test_prediction = lr.predict(X_test) #test set에 대한 예측값\n",
    "print(\"rmse:\",mean_squared_error(y_test, y_test_prediction) ** 0.5) #평균 제곱근 오차"
   ]
  },
  {
   "cell_type": "markdown",
   "metadata": {},
   "source": [
    "* Ridge 모델"
   ]
  },
  {
   "cell_type": "code",
   "execution_count": 12,
   "metadata": {},
   "outputs": [],
   "source": [
    "from sklearn.linear_model import Ridge\n",
    "ridge = Ridge(alpha=0.1).fit(X_train, y_train)"
   ]
  },
  {
   "cell_type": "code",
   "execution_count": 13,
   "metadata": {},
   "outputs": [
    {
     "name": "stdout",
     "output_type": "stream",
     "text": [
      "훈련 세트 점수: 0.34234878166662275\n",
      "테스트 세트 점수: 0.054811543368611715\n"
     ]
    }
   ],
   "source": [
    "print(\"훈련 세트 점수:\",ridge.score(X_train, y_train))\n",
    "print(\"테스트 세트 점수:\",ridge.score(X_test, y_test))"
   ]
  },
  {
   "cell_type": "code",
   "execution_count": 14,
   "metadata": {},
   "outputs": [
    {
     "name": "stdout",
     "output_type": "stream",
     "text": [
      "rmse: 1217634.0255514348\n"
     ]
    }
   ],
   "source": [
    "ridge.coef_ \n",
    "ridge.intercept_ \n",
    "y_test_prediction = ridge.predict(X_test) \n",
    "print(\"rmse:\",mean_squared_error(y_test, y_test_prediction) ** 0.5) "
   ]
  },
  {
   "cell_type": "markdown",
   "metadata": {},
   "source": [
    "* Lasso 모델"
   ]
  },
  {
   "cell_type": "code",
   "execution_count": 15,
   "metadata": {},
   "outputs": [],
   "source": [
    "from sklearn.linear_model import Lasso\n",
    "lasso = Lasso().fit(X_train, y_train)"
   ]
  },
  {
   "cell_type": "code",
   "execution_count": 16,
   "metadata": {},
   "outputs": [
    {
     "name": "stdout",
     "output_type": "stream",
     "text": [
      "훈련 세트 점수: 0.34242701299835565\n",
      "테스트 세트 점수: 0.05495307680531669\n"
     ]
    }
   ],
   "source": [
    "print(\"훈련 세트 점수:\",lasso.score(X_train, y_train))\n",
    "print(\"테스트 세트 점수:\",lasso.score(X_test, y_test))"
   ]
  },
  {
   "cell_type": "code",
   "execution_count": 17,
   "metadata": {},
   "outputs": [
    {
     "name": "stdout",
     "output_type": "stream",
     "text": [
      "rmse: 1217542.8572881129\n"
     ]
    }
   ],
   "source": [
    "lasso.coef_ \n",
    "lasso.intercept_ \n",
    "y_test_prediction = lasso.predict(X_test) \n",
    "print(\"rmse:\",mean_squared_error(y_test, y_test_prediction) ** 0.5) "
   ]
  },
  {
   "cell_type": "markdown",
   "metadata": {},
   "source": [
    "## 장르별(로맨스) 스태프수 별 관람객 수"
   ]
  },
  {
   "cell_type": "code",
   "execution_count": 18,
   "metadata": {},
   "outputs": [],
   "source": [
    "X=staff.values\n",
    "from sklearn.model_selection import train_test_split\n",
    "X_train, X_test, y_train, y_test = train_test_split(X,y,random_state=0)"
   ]
  },
  {
   "cell_type": "markdown",
   "metadata": {},
   "source": [
    "* LinearRegression 모델"
   ]
  },
  {
   "cell_type": "code",
   "execution_count": 19,
   "metadata": {},
   "outputs": [],
   "source": [
    "from sklearn.linear_model import LinearRegression\n",
    "lr = LinearRegression().fit(X_train, y_train)"
   ]
  },
  {
   "cell_type": "code",
   "execution_count": 20,
   "metadata": {},
   "outputs": [
    {
     "name": "stdout",
     "output_type": "stream",
     "text": [
      "훈련 세트 점수: 0.3994516557087533\n",
      "테스트 세트 점수: 0.30205025011699305\n"
     ]
    }
   ],
   "source": [
    "print(\"훈련 세트 점수:\",lr.score(X_train, y_train))\n",
    "print(\"테스트 세트 점수:\",lr.score(X_test, y_test))"
   ]
  },
  {
   "cell_type": "code",
   "execution_count": 21,
   "metadata": {},
   "outputs": [
    {
     "name": "stdout",
     "output_type": "stream",
     "text": [
      "rmse: 1046332.3406808563\n"
     ]
    }
   ],
   "source": [
    "lr.coef_ \n",
    "lr.intercept_ \n",
    "y_test_prediction = lr.predict(X_test) \n",
    "print(\"rmse:\",mean_squared_error(y_test, y_test_prediction) ** 0.5)"
   ]
  },
  {
   "cell_type": "markdown",
   "metadata": {},
   "source": [
    "* Ridge 모델"
   ]
  },
  {
   "cell_type": "code",
   "execution_count": 22,
   "metadata": {},
   "outputs": [],
   "source": [
    "from sklearn.linear_model import Ridge\n",
    "ridge = Ridge(alpha=0.1).fit(X_train, y_train)"
   ]
  },
  {
   "cell_type": "code",
   "execution_count": 23,
   "metadata": {},
   "outputs": [
    {
     "name": "stdout",
     "output_type": "stream",
     "text": [
      "훈련 세트 점수: 0.3994516557087501\n",
      "테스트 세트 점수: 0.30205023510277307\n"
     ]
    }
   ],
   "source": [
    "print(\"훈련 세트 점수:\",ridge.score(X_train, y_train))\n",
    "print(\"테스트 세트 점수:\",ridge.score(X_test, y_test))"
   ]
  },
  {
   "cell_type": "code",
   "execution_count": 24,
   "metadata": {},
   "outputs": [
    {
     "name": "stdout",
     "output_type": "stream",
     "text": [
      "rmse: 1046332.3519351505\n"
     ]
    }
   ],
   "source": [
    "ridge.coef_ \n",
    "ridge.intercept_ \n",
    "y_test_prediction = ridge.predict(X_test) \n",
    "print(\"rmse:\",mean_squared_error(y_test, y_test_prediction) ** 0.5) "
   ]
  },
  {
   "cell_type": "markdown",
   "metadata": {},
   "source": [
    "* Lasso 모델"
   ]
  },
  {
   "cell_type": "code",
   "execution_count": 25,
   "metadata": {},
   "outputs": [],
   "source": [
    "from sklearn.linear_model import Lasso\n",
    "lasso = Lasso().fit(X_train, y_train)"
   ]
  },
  {
   "cell_type": "code",
   "execution_count": 26,
   "metadata": {},
   "outputs": [
    {
     "name": "stdout",
     "output_type": "stream",
     "text": [
      "훈련 세트 점수: 0.3994516557087532\n",
      "테스트 세트 점수: 0.30205024755222765\n"
     ]
    }
   ],
   "source": [
    "print(\"훈련 세트 점수:\",lasso.score(X_train, y_train))\n",
    "print(\"테스트 세트 점수:\",lasso.score(X_test, y_test))"
   ]
  },
  {
   "cell_type": "code",
   "execution_count": 27,
   "metadata": {},
   "outputs": [
    {
     "name": "stdout",
     "output_type": "stream",
     "text": [
      "rmse: 1046332.342603342\n"
     ]
    }
   ],
   "source": [
    "lasso.coef_ \n",
    "lasso.intercept_ \n",
    "y_test_prediction = lasso.predict(X_test) \n",
    "print(\"rmse:\",mean_squared_error(y_test, y_test_prediction) ** 0.5) "
   ]
  },
  {
   "cell_type": "markdown",
   "metadata": {},
   "source": [
    "## 장르별(로맨스) 시간별 관람객 수"
   ]
  },
  {
   "cell_type": "code",
   "execution_count": 28,
   "metadata": {},
   "outputs": [],
   "source": [
    "X=time.values\n",
    "X_train, X_test, y_train, y_test = train_test_split(X,y,random_state=0)"
   ]
  },
  {
   "cell_type": "markdown",
   "metadata": {},
   "source": [
    "* LinearRegression 모델"
   ]
  },
  {
   "cell_type": "code",
   "execution_count": 29,
   "metadata": {},
   "outputs": [],
   "source": [
    "from sklearn.linear_model import LinearRegression\n",
    "lr = LinearRegression().fit(X_train, y_train)"
   ]
  },
  {
   "cell_type": "code",
   "execution_count": 30,
   "metadata": {},
   "outputs": [
    {
     "name": "stdout",
     "output_type": "stream",
     "text": [
      "훈련 세트 점수: 0.3496800777284219\n",
      "테스트 세트 점수: 0.272108398522388\n"
     ]
    }
   ],
   "source": [
    "print(\"훈련 세트 점수:\",lr.score(X_train, y_train))\n",
    "print(\"테스트 세트 점수:\",lr.score(X_test, y_test))"
   ]
  },
  {
   "cell_type": "code",
   "execution_count": 31,
   "metadata": {},
   "outputs": [
    {
     "name": "stdout",
     "output_type": "stream",
     "text": [
      "rmse: 1068540.3467220974\n"
     ]
    }
   ],
   "source": [
    "lr.coef_ \n",
    "lr.intercept_ \n",
    "y_test_prediction = lr.predict(X_test) \n",
    "print(\"rmse:\",mean_squared_error(y_test, y_test_prediction) ** 0.5)"
   ]
  },
  {
   "cell_type": "markdown",
   "metadata": {},
   "source": [
    "* Ridge 모델"
   ]
  },
  {
   "cell_type": "code",
   "execution_count": 32,
   "metadata": {},
   "outputs": [],
   "source": [
    "from sklearn.linear_model import Ridge\n",
    "ridge = Ridge(alpha=0.1).fit(X_train, y_train)"
   ]
  },
  {
   "cell_type": "code",
   "execution_count": 33,
   "metadata": {},
   "outputs": [
    {
     "name": "stdout",
     "output_type": "stream",
     "text": [
      "훈련 세트 점수: 0.34968007770475595\n",
      "테스트 세트 점수: 0.27210700418922074\n"
     ]
    }
   ],
   "source": [
    "print(\"훈련 세트 점수:\",ridge.score(X_train, y_train))\n",
    "print(\"테스트 세트 점수:\",ridge.score(X_test, y_test))"
   ]
  },
  {
   "cell_type": "code",
   "execution_count": 34,
   "metadata": {},
   "outputs": [
    {
     "name": "stdout",
     "output_type": "stream",
     "text": [
      "rmse: 1068541.3701578188\n"
     ]
    }
   ],
   "source": [
    "ridge.coef_ \n",
    "ridge.intercept_ \n",
    "y_test_prediction = ridge.predict(X_test) \n",
    "print(\"rmse:\",mean_squared_error(y_test, y_test_prediction) ** 0.5) "
   ]
  },
  {
   "cell_type": "markdown",
   "metadata": {},
   "source": [
    "* Lasso 모델"
   ]
  },
  {
   "cell_type": "code",
   "execution_count": 35,
   "metadata": {},
   "outputs": [],
   "source": [
    "from sklearn.linear_model import Lasso\n",
    "lasso = Lasso().fit(X_train, y_train)"
   ]
  },
  {
   "cell_type": "code",
   "execution_count": 36,
   "metadata": {},
   "outputs": [
    {
     "name": "stdout",
     "output_type": "stream",
     "text": [
      "훈련 세트 점수: 0.3496800777284136\n",
      "테스트 세트 점수: 0.2721083725471146\n"
     ]
    }
   ],
   "source": [
    "print(\"훈련 세트 점수:\",lasso.score(X_train, y_train))\n",
    "print(\"테스트 세트 점수:\",lasso.score(X_test, y_test))"
   ]
  },
  {
   "cell_type": "code",
   "execution_count": 37,
   "metadata": {},
   "outputs": [
    {
     "name": "stdout",
     "output_type": "stream",
     "text": [
      "rmse: 1068540.3657878672\n"
     ]
    }
   ],
   "source": [
    "lasso.coef_ \n",
    "lasso.intercept_ \n",
    "y_test_prediction = lasso.predict(X_test) \n",
    "print(\"rmse:\",mean_squared_error(y_test, y_test_prediction) ** 0.5) "
   ]
  },
  {
   "cell_type": "markdown",
   "metadata": {},
   "source": [
    "## 장르별(로맨스) 상영 등급, 스태프 수, 시간별 관람객 수"
   ]
  },
  {
   "cell_type": "code",
   "execution_count": 38,
   "metadata": {},
   "outputs": [],
   "source": [
    "data=rate.join([staff,time])"
   ]
  },
  {
   "cell_type": "code",
   "execution_count": 39,
   "metadata": {},
   "outputs": [
    {
     "data": {
      "text/html": [
       "<div>\n",
       "<style scoped>\n",
       "    .dataframe tbody tr th:only-of-type {\n",
       "        vertical-align: middle;\n",
       "    }\n",
       "\n",
       "    .dataframe tbody tr th {\n",
       "        vertical-align: top;\n",
       "    }\n",
       "\n",
       "    .dataframe thead th {\n",
       "        text-align: right;\n",
       "    }\n",
       "</style>\n",
       "<table border=\"1\" class=\"dataframe\">\n",
       "  <thead>\n",
       "    <tr style=\"text-align: right;\">\n",
       "      <th></th>\n",
       "      <th>12세 관람가</th>\n",
       "      <th>15세 관람가</th>\n",
       "      <th>전체 관람가</th>\n",
       "      <th>청소년 관람불가</th>\n",
       "      <th>num_staff</th>\n",
       "      <th>time</th>\n",
       "    </tr>\n",
       "  </thead>\n",
       "  <tbody>\n",
       "    <tr>\n",
       "      <th>0</th>\n",
       "      <td>0</td>\n",
       "      <td>0</td>\n",
       "      <td>0</td>\n",
       "      <td>1</td>\n",
       "      <td>0</td>\n",
       "      <td>89</td>\n",
       "    </tr>\n",
       "    <tr>\n",
       "      <th>1</th>\n",
       "      <td>0</td>\n",
       "      <td>0</td>\n",
       "      <td>0</td>\n",
       "      <td>1</td>\n",
       "      <td>0</td>\n",
       "      <td>89</td>\n",
       "    </tr>\n",
       "    <tr>\n",
       "      <th>2</th>\n",
       "      <td>0</td>\n",
       "      <td>1</td>\n",
       "      <td>0</td>\n",
       "      <td>0</td>\n",
       "      <td>9</td>\n",
       "      <td>88</td>\n",
       "    </tr>\n",
       "    <tr>\n",
       "      <th>3</th>\n",
       "      <td>1</td>\n",
       "      <td>0</td>\n",
       "      <td>0</td>\n",
       "      <td>0</td>\n",
       "      <td>324</td>\n",
       "      <td>114</td>\n",
       "    </tr>\n",
       "    <tr>\n",
       "      <th>4</th>\n",
       "      <td>0</td>\n",
       "      <td>1</td>\n",
       "      <td>0</td>\n",
       "      <td>0</td>\n",
       "      <td>315</td>\n",
       "      <td>121</td>\n",
       "    </tr>\n",
       "    <tr>\n",
       "      <th>...</th>\n",
       "      <td>...</td>\n",
       "      <td>...</td>\n",
       "      <td>...</td>\n",
       "      <td>...</td>\n",
       "      <td>...</td>\n",
       "      <td>...</td>\n",
       "    </tr>\n",
       "    <tr>\n",
       "      <th>73</th>\n",
       "      <td>0</td>\n",
       "      <td>1</td>\n",
       "      <td>0</td>\n",
       "      <td>0</td>\n",
       "      <td>9</td>\n",
       "      <td>78</td>\n",
       "    </tr>\n",
       "    <tr>\n",
       "      <th>74</th>\n",
       "      <td>0</td>\n",
       "      <td>0</td>\n",
       "      <td>0</td>\n",
       "      <td>1</td>\n",
       "      <td>0</td>\n",
       "      <td>84</td>\n",
       "    </tr>\n",
       "    <tr>\n",
       "      <th>75</th>\n",
       "      <td>0</td>\n",
       "      <td>0</td>\n",
       "      <td>0</td>\n",
       "      <td>1</td>\n",
       "      <td>0</td>\n",
       "      <td>72</td>\n",
       "    </tr>\n",
       "    <tr>\n",
       "      <th>76</th>\n",
       "      <td>1</td>\n",
       "      <td>0</td>\n",
       "      <td>0</td>\n",
       "      <td>0</td>\n",
       "      <td>158</td>\n",
       "      <td>94</td>\n",
       "    </tr>\n",
       "    <tr>\n",
       "      <th>77</th>\n",
       "      <td>0</td>\n",
       "      <td>1</td>\n",
       "      <td>0</td>\n",
       "      <td>0</td>\n",
       "      <td>57</td>\n",
       "      <td>90</td>\n",
       "    </tr>\n",
       "  </tbody>\n",
       "</table>\n",
       "<p>78 rows × 6 columns</p>\n",
       "</div>"
      ],
      "text/plain": [
       "    12세 관람가  15세 관람가  전체 관람가  청소년 관람불가  num_staff  time\n",
       "0         0        0       0         1          0    89\n",
       "1         0        0       0         1          0    89\n",
       "2         0        1       0         0          9    88\n",
       "3         1        0       0         0        324   114\n",
       "4         0        1       0         0        315   121\n",
       "..      ...      ...     ...       ...        ...   ...\n",
       "73        0        1       0         0          9    78\n",
       "74        0        0       0         1          0    84\n",
       "75        0        0       0         1          0    72\n",
       "76        1        0       0         0        158    94\n",
       "77        0        1       0         0         57    90\n",
       "\n",
       "[78 rows x 6 columns]"
      ]
     },
     "execution_count": 39,
     "metadata": {},
     "output_type": "execute_result"
    }
   ],
   "source": [
    "data"
   ]
  },
  {
   "cell_type": "code",
   "execution_count": 40,
   "metadata": {},
   "outputs": [],
   "source": [
    "X=data.values\n",
    "X_train, X_test, y_train, y_test = train_test_split(X,y)"
   ]
  },
  {
   "cell_type": "markdown",
   "metadata": {},
   "source": [
    "* LinearRegression 모델"
   ]
  },
  {
   "cell_type": "code",
   "execution_count": 41,
   "metadata": {},
   "outputs": [],
   "source": [
    "lr = LinearRegression().fit(X_train, y_train)"
   ]
  },
  {
   "cell_type": "code",
   "execution_count": 42,
   "metadata": {},
   "outputs": [
    {
     "name": "stdout",
     "output_type": "stream",
     "text": [
      "훈련 세트 점수: 0.45910607673077\n",
      "테스트 세트 점수: 0.32536276326563207\n"
     ]
    }
   ],
   "source": [
    "print(\"훈련 세트 점수:\",lr.score(X_train, y_train))\n",
    "print(\"테스트 세트 점수:\",lr.score(X_test, y_test))"
   ]
  },
  {
   "cell_type": "code",
   "execution_count": 43,
   "metadata": {},
   "outputs": [
    {
     "name": "stdout",
     "output_type": "stream",
     "text": [
      "rmse: 999774.9579224441\n"
     ]
    }
   ],
   "source": [
    "lr.coef_ \n",
    "lr.intercept_ \n",
    "y_test_prediction = lr.predict(X_test) \n",
    "print(\"rmse:\",mean_squared_error(y_test, y_test_prediction) ** 0.5)"
   ]
  },
  {
   "cell_type": "markdown",
   "metadata": {},
   "source": [
    "* Ridge 모델"
   ]
  },
  {
   "cell_type": "code",
   "execution_count": 44,
   "metadata": {},
   "outputs": [],
   "source": [
    "ridge = Ridge(alpha=0.1).fit(X_train, y_train)"
   ]
  },
  {
   "cell_type": "code",
   "execution_count": 45,
   "metadata": {},
   "outputs": [
    {
     "name": "stdout",
     "output_type": "stream",
     "text": [
      "훈련 세트 점수: 0.4591036175544986\n",
      "테스트 세트 점수: 0.32513993517379913\n"
     ]
    }
   ],
   "source": [
    "print(\"훈련 세트 점수:\",ridge.score(X_train, y_train))\n",
    "print(\"테스트 세트 점수:\",ridge.score(X_test, y_test))"
   ]
  },
  {
   "cell_type": "code",
   "execution_count": 46,
   "metadata": {},
   "outputs": [
    {
     "name": "stdout",
     "output_type": "stream",
     "text": [
      "rmse: 999940.0537261843\n"
     ]
    }
   ],
   "source": [
    "ridge.coef_ \n",
    "ridge.intercept_ \n",
    "y_test_prediction = ridge.predict(X_test) \n",
    "print(\"rmse:\",mean_squared_error(y_test, y_test_prediction) ** 0.5) "
   ]
  },
  {
   "cell_type": "markdown",
   "metadata": {},
   "source": [
    "* Lasso 모델"
   ]
  },
  {
   "cell_type": "code",
   "execution_count": 47,
   "metadata": {},
   "outputs": [],
   "source": [
    "lasso = Lasso().fit(X_train, y_train)"
   ]
  },
  {
   "cell_type": "code",
   "execution_count": 48,
   "metadata": {},
   "outputs": [
    {
     "name": "stdout",
     "output_type": "stream",
     "text": [
      "훈련 세트 점수: 0.45910607664072456\n",
      "테스트 세트 점수: 0.3253596446123077\n"
     ]
    }
   ],
   "source": [
    "print(\"훈련 세트 점수:\",lasso.score(X_train, y_train))\n",
    "print(\"테스트 세트 점수:\",lasso.score(X_test, y_test))"
   ]
  },
  {
   "cell_type": "code",
   "execution_count": 49,
   "metadata": {},
   "outputs": [
    {
     "name": "stdout",
     "output_type": "stream",
     "text": [
      "rmse: 999777.2687553801\n"
     ]
    }
   ],
   "source": [
    "lasso.coef_ \n",
    "lasso.intercept_ \n",
    "y_test_prediction = lasso.predict(X_test) \n",
    "print(\"rmse:\",mean_squared_error(y_test, y_test_prediction) ** 0.5) "
   ]
  },
  {
   "cell_type": "code",
   "execution_count": null,
   "metadata": {},
   "outputs": [],
   "source": []
  }
 ],
 "metadata": {
  "kernelspec": {
   "display_name": "Python 3",
   "language": "python",
   "name": "python3"
  },
  "language_info": {
   "codemirror_mode": {
    "name": "ipython",
    "version": 3
   },
   "file_extension": ".py",
   "mimetype": "text/x-python",
   "name": "python",
   "nbconvert_exporter": "python",
   "pygments_lexer": "ipython3",
   "version": "3.8.5"
  }
 },
 "nbformat": 4,
 "nbformat_minor": 4
}
