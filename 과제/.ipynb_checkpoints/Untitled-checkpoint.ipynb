{
 "cells": [
  {
   "cell_type": "code",
   "execution_count": 1,
   "metadata": {},
   "outputs": [],
   "source": [
    "import sklearn\n",
    "sklearn.__version__\n",
    "# 0.22.2.post1\n",
    "import mglearn\n",
    "from sklearn.model_selection import train_test_split\n",
    "from sklearn.pipeline import make_pipeline\n",
    "from sklearn.preprocessing import StandardScaler\n",
    "from sklearn.linear_model import Ridge\n",
    "from sklearn.model_selection import GridSearchCV\n",
    "from sklearn.pipeline import Pipeline\n",
    "from sklearn.datasets import load_breast_cancer\n",
    "from sklearn.preprocessing import MinMaxScaler"
   ]
  },
  {
   "cell_type": "markdown",
   "metadata": {},
   "source": [
    "## 6.5 전처리와 모델의 매개변수를 위한 그리드 서치\n",
    "\n",
    "* 파이프라인을 사용하면 머신러닝 워크플로에 필요한 모든 처리 단계를 하나의 scikit-learn 추정기로 캡슐화할 수 있다.  \n",
    "* 회귀와 분류 같은 지도 학습의 출력을 이용해서 전처리 매개 변수를 조정할 수 있다. \n",
    "* boston 데이터 셋에서 파이프라인을 사용해 리지 회귀에 적용\n",
    "* 이 파이프라인은 데이터 스케일 조정, 다항식 특성 선택, 리지 회귀의 세 단계로 구성"
   ]
  },
  {
   "cell_type": "code",
   "execution_count": 2,
   "metadata": {},
   "outputs": [],
   "source": [
    "from sklearn.datasets import load_boston\n",
    "\n",
    "boston=load_boston()\n",
    "X_train,X_test,y_train,y_test=train_test_split(boston.data,boston.target,random_state=0)\n",
    "\n",
    "from sklearn.preprocessing import PolynomialFeatures\n",
    "pipe=make_pipeline(StandardScaler(),PolynomialFeatures(),Ridge())"
   ]
  },
  {
   "cell_type": "markdown",
   "metadata": {},
   "source": [
    "* 분류의 결과에 기초해서 degree 매개 변수를 선택하는 것이 이상적이다.\n",
    "* 파이프라인을 사용하면 Ridge의 alpha 매개변수와 함께 degree 매개 변수를 탐색할 수 있다.  \n",
    "이를 위해서는 단계의 이름을 접두어로 사용한 매개변수 두 개를 param_grid에 정의해야 한다.  "
   ]
  },
  {
   "cell_type": "code",
   "execution_count": 3,
   "metadata": {},
   "outputs": [],
   "source": [
    "param_grid={'polynomialfeatures__degree':[1,2,3],\n",
    "           'ridge__alpha':[0.001,0.01,0.1,1,10,100]}"
   ]
  },
  {
   "cell_type": "markdown",
   "metadata": {},
   "source": [
    "* 그런 다음 그리드 서치를 적용"
   ]
  },
  {
   "cell_type": "code",
   "execution_count": 4,
   "metadata": {},
   "outputs": [
    {
     "data": {
      "text/plain": [
       "GridSearchCV(cv=5,\n",
       "             estimator=Pipeline(steps=[('standardscaler', StandardScaler()),\n",
       "                                       ('polynomialfeatures',\n",
       "                                        PolynomialFeatures()),\n",
       "                                       ('ridge', Ridge())]),\n",
       "             n_jobs=-1,\n",
       "             param_grid={'polynomialfeatures__degree': [1, 2, 3],\n",
       "                         'ridge__alpha': [0.001, 0.01, 0.1, 1, 10, 100]})"
      ]
     },
     "execution_count": 4,
     "metadata": {},
     "output_type": "execute_result"
    }
   ],
   "source": [
    "grid = GridSearchCV(pipe, param_grid=param_grid, cv=5, n_jobs=-1)\n",
    "grid.fit(X_train, y_train)"
   ]
  },
  {
   "cell_type": "markdown",
   "metadata": {},
   "source": [
    "* 교차 검증의 결과를 히트맵을 사용해서 나타내면,"
   ]
  },
  {
   "cell_type": "code",
   "execution_count": 5,
   "metadata": {},
   "outputs": [
    {
     "data": {
      "text/plain": [
       "<matplotlib.collections.PolyCollection at 0x1f09ab95f40>"
      ]
     },
     "execution_count": 5,
     "metadata": {},
     "output_type": "execute_result"
    },
    {
     "data": {
      "image/png": "[encoded data removed]",
      "text/plain": [
       "<Figure size 432x288 with 1 Axes>"
      ]
     },
     "metadata": {
      "needs_background": "light"
     },
     "output_type": "display_data"
    }
   ],
   "source": [
    "mglearn.tools.heatmap(grid.cv_results_['mean_test_score'].reshape(3,-1),\n",
    "               xlabel=\"ridge__alpha\",ylabel=\"polynomialfeatures__degree\",\n",
    "               xticklabels=param_grid['ridge__alpha'],\n",
    "               yticklabels=param_grid['polynomialfeatures__degree'],vmin=0)"
   ]
  },
  {
   "cell_type": "markdown",
   "metadata": {},
   "source": [
    "* 교차 검증의 결과를 보면 2차항이 효과가 좋고 3차항은 1, 2차보다 결과가 나쁘다.\n",
    "* 최적의 매개변수 확인해서도 알 수 있다."
   ]
  },
  {
   "cell_type": "code",
   "execution_count": 6,
   "metadata": {},
   "outputs": [
    {
     "name": "stdout",
     "output_type": "stream",
     "text": [
      "최적의 매개변수: {'polynomialfeatures__degree': 2, 'ridge__alpha': 10}\n"
     ]
    }
   ],
   "source": [
    "print(\"최적의 매개변수:\",grid.best_params_)"
   ]
  },
  {
   "cell_type": "markdown",
   "metadata": {},
   "source": [
    "* 테스트 점수를 확인해 보면,"
   ]
  },
  {
   "cell_type": "code",
   "execution_count": 7,
   "metadata": {},
   "outputs": [
    {
     "name": "stdout",
     "output_type": "stream",
     "text": [
      "테스트 점수: 0.77\n"
     ]
    }
   ],
   "source": [
    "print(\"테스트 점수: {:.2f}\".format(grid.score(X_test,y_test)))"
   ]
  },
  {
   "cell_type": "markdown",
   "metadata": {},
   "source": [
    "* 다항식 특성이 없는 그리드 서치와 비교해 보면,"
   ]
  },
  {
   "cell_type": "code",
   "execution_count": 8,
   "metadata": {},
   "outputs": [
    {
     "name": "stdout",
     "output_type": "stream",
     "text": [
      "다항 특성이 없을 때 점수: 0.63\n"
     ]
    }
   ],
   "source": [
    "param_grid={'ridge__alpha': [0.001,0.01,0.1,1,10,100]}\n",
    "pipe=make_pipeline(StandardScaler(),Ridge())\n",
    "grid=GridSearchCV(pipe,param_grid,cv=5)\n",
    "grid.fit(X_train,y_train)\n",
    "print(\"다항 특성이 없을 때 점수: {:.2f}\".format(grid.score(X_test,y_test)))"
   ]
  },
  {
   "cell_type": "markdown",
   "metadata": {},
   "source": [
    "* 다항 특성이 없는 경우 성능이 낮아짐"
   ]
  },
  {
   "cell_type": "markdown",
   "metadata": {},
   "source": [
    "* 모델의 매개변수와 함께 전처리 과정의 매개변수를 찾는 것은 매우 강력한 전략\n",
    "* GridSearchCV는 지정한 매개변수의 모든 가능한 조합을 시도, 따라서 매개 변수   \n",
    "그리드에 많은 매개 변수를 추가하면 만들어야 할 모델이 급격히 증가"
   ]
  },
  {
   "cell_type": "markdown",
   "metadata": {},
   "source": [
    "## 6.6 모델 선택을 위한 그리드 서치\n",
    "* GridSearchCV와 Pipeline을 연결하는 것에서 더 나아가, 파이프 라인을 구성하는 단계도 탐색 대상으로 삼을 수 있다.\n",
    "* 이렇게 하면 탐색 범위가 더 넓어지므로 주의 깊게 고려해야 한다.\n",
    "* 모든 알고리즘을 시도해보는 것이 필수적인 머신러닝 전략은 아니다.\n",
    "* cancer 데이터 셋에서 RandomForestClassifier와 SVC를 비교\n",
    "* SVC는 데이터의 스케일을 조정해야 하므로 StandardScaler를 사용할지 또는 전처리를 하지 않을지 판단이 필요\n",
    "* RandomForestClassifier에는 전처리가 필요 없다."
   ]
  },
  {
   "cell_type": "markdown",
   "metadata": {},
   "source": [
    "* 먼저 파이프라인 정의, 여기서는 단계 이름을 직접 지정한다.\n",
    "* 단계는 두개가 필요하며, 하나는 전처리이고, 다른 하나는 분류기이다. \n",
    "* SVC와 StandardScaler를 사용해 파이프라인 객체를 만든다."
   ]
  },
  {
   "cell_type": "code",
   "execution_count": 9,
   "metadata": {},
   "outputs": [],
   "source": [
    "from sklearn.svm import SVC\n",
    "pipe=Pipeline([('preprocessing',StandardScaler()),('classifier',SVC())])"
   ]
  },
  {
   "cell_type": "markdown",
   "metadata": {},
   "source": [
    "* 검색할 parameter_grid를 정의.\n",
    "* classifier는 RandomForestClassifier나 SVC가 되어야 한다. \n",
    "* 두 모델의 매개변수와 전처리가 다르므로 매개변수 그리드의 리스트를 사용한다.\n",
    "* 어떤 추정기에 해당하는 단계인지 지정하려면 추정기 단계의 이름을 매개변수 이름으로 사용\n",
    "* 파이프 라인의 단계를 건너 뛰어야 할때는 단계에 None을 할당."
   ]
  },
  {
   "cell_type": "code",
   "execution_count": 10,
   "metadata": {},
   "outputs": [],
   "source": [
    "from sklearn.ensemble import RandomForestClassifier\n",
    "\n",
    "param_grid = [\n",
    "    {'classifier': [SVC()], 'preprocessing': [StandardScaler()],\n",
    "     'classifier__gamma': [0.001, 0.01, 0.1, 1, 10, 100],\n",
    "     'classifier__C': [0.001, 0.01, 0.1, 1, 10, 100]},\n",
    "    {'classifier': [RandomForestClassifier(n_estimators=100)],\n",
    "     'preprocessing': [None], 'classifier__max_features': [1, 2, 3]}]"
   ]
  },
  {
   "cell_type": "markdown",
   "metadata": {},
   "source": [
    "* 그리드 서치 객체를 만들고 cancer 데이터 셋으로 진행"
   ]
  },
  {
   "cell_type": "code",
   "execution_count": 11,
   "metadata": {},
   "outputs": [
    {
     "data": {
      "text/plain": [
       "GridSearchCV(cv=5,\n",
       "             estimator=Pipeline(steps=[('preprocessing', StandardScaler()),\n",
       "                                       ('classifier', SVC())]),\n",
       "             param_grid=[{'classifier': [SVC(C=10, gamma=0.01)],\n",
       "                          'classifier__C': [0.001, 0.01, 0.1, 1, 10, 100],\n",
       "                          'classifier__gamma': [0.001, 0.01, 0.1, 1, 10, 100],\n",
       "                          'preprocessing': [StandardScaler()]},\n",
       "                         {'classifier': [RandomForestClassifier()],\n",
       "                          'classifier__max_features': [1, 2, 3],\n",
       "                          'preprocessing': [None]}])"
      ]
     },
     "execution_count": 11,
     "metadata": {},
     "output_type": "execute_result"
    }
   ],
   "source": [
    "cancer=load_breast_cancer()\n",
    "X_train,X_test,y_train,y_test=train_test_split(cancer.data,cancer.target,random_state=0)\n",
    "grid=GridSearchCV(pipe,param_grid,cv=5)\n",
    "grid.fit(X_train,y_train)"
   ]
  },
  {
   "cell_type": "code",
   "execution_count": 12,
   "metadata": {},
   "outputs": [
    {
     "name": "stdout",
     "output_type": "stream",
     "text": [
      "최적의 매개변수:\n",
      "{'classifier': SVC(C=10, gamma=0.01), 'classifier__C': 10, 'classifier__gamma': 0.01, 'preprocessing': StandardScaler()}\n",
      "\n",
      "최상의 교차 검증 점수: 0.99\n",
      "테스트 세트 점수: 0.98\n"
     ]
    }
   ],
   "source": [
    "print(\"최적의 매개변수:\\n{}\\n\".format(grid.best_params_))\n",
    "print(\"최상의 교차 검증 점수: {:.2f}\".format(grid.best_score_))\n",
    "print(\"테스트 세트 점수: {:.2f}\".format(grid.score(X_test,y_test)))"
   ]
  },
  {
   "cell_type": "markdown",
   "metadata": {},
   "source": [
    "* 그리드 서치의 결과는 StandardScaler 전처리를 사요하고 C=10, gamma=0.01인 SVC에서 최상의 결과를 얻었습니다."
   ]
  },
  {
   "cell_type": "markdown",
   "metadata": {},
   "source": [
    "### 6.6.1 중복계산 피하기"
   ]
  },
  {
   "cell_type": "markdown",
   "metadata": {},
   "source": [
    "* 대규모 그리드 서치를 수행할 때 종종 동일한 단계가 여러번 수행된다.\n",
    "* 간단한 해결책은 파이프라인의 memory 매개 변수를 사용하여 계산 결과를 캐싱하는 것이다.\n",
    "* 이 매개변수는 joblib.Memory 객체나 캐싱할 경로를 받습니다. \n",
    "* 다음처럼 간단히 캐싱을 활성화할 수도 있다."
   ]
  },
  {
   "cell_type": "code",
   "execution_count": 13,
   "metadata": {},
   "outputs": [],
   "source": [
    "pipe=Pipeline([('preprocessing',StandardScaler()),('classifier',SVC())],memory=\"cache_folder\")"
   ]
  },
  {
   "cell_type": "markdown",
   "metadata": {},
   "source": [
    "#### 첫번째 단점\n",
    "* 캐시는 디스크에 저장되어 관리되기 때문에 실제 디스크에 읽고 쓰기 위해 직렬화가 필요하다. 따라서 비교적 오랜 시간이 걸리는 변환이어야 memory 매개변수를 사용하여 속도를 높이는 효과를 낼 수 있다.\n",
    "* 단순히 데이터의 스케일을 변환하는 것이라면 스케일 조정된 데이터를 디스크에서 읽는 것 보다 빠를 가능성이 높다.\n",
    "* 계산 비용이 높은 변환이라면 그래도 여전히 유용하다.  \n",
    "\n",
    "#### 두번째 단점\n",
    "* n_jobs 배개변수가 캐싱을 방해한다는 것이다. 그리드 서치의 실행 순서에 따라 최악의 경우 캐시되기 전에 n_jobs만큼의 작업 프로세스가 동시에 동일한 계산을 중복으로 수행할 수 있다.\n",
    "\n"
   ]
  },
  {
   "cell_type": "markdown",
   "metadata": {},
   "source": [
    "* dask-ml 라이브러리에서 제공하는 GridSearchCV를 사용하면 이런 단점을 모두 피할 수 있다. dask-ml은 병렬 연산을 수행하는 동안 중복된 계산을 방지한다. \n",
    "* 클러스터에 분산된 경우에도 가능하다.\n",
    "* 따라서 계산 비용이 높은 파이프라인과 방대한 양의 매개변수 탐색을 해야 한다면 dask-ml을 살펴보는 것이 좋다."
   ]
  },
  {
   "cell_type": "markdown",
   "metadata": {},
   "source": [
    "## 6.7 요약 및 정리\n",
    "* 실제 머신러닝 애플리케이션에서는 모델을 단독으로 사용하는 경우가 거의 없으며 여러 처리 단계가 연속해서 이뤄진다.\n",
    "* 파이프라인을 사용하면 여러 여러 단계를 하나의 파이썬 객체로 캡슐화 해주고 scikit-learndml fit, predict, transform 인터페이스를 사용할 수 있다. \n",
    "* 특히 교차 검증을 사용하여 모델을 평가하고 그리드 서치를 사용하여 매개 변수 선택을 할 때 모든 처리 단계를 Pipeline으로 묶는 것은 올바른 평가를 위해 필수적이다. \n",
    "* Pipeline 파이썬 클래스는 코드를 간결하게 작성하도록 도와주고, Pipe라인을 사용하지 않고 처리 단계를 구현할 때 발생할 수 있는 실수를 방지해준다. \n",
    "* 파이프라인을 사용하면 특성 추출, 전처리, 모델의 완벽한 조합을 찾는 처리 단계를 손쉽게 시도해 볼 수 있다. \n",
    "* 실험 단계에서는 처리 단계를 너무 복잡하게 만들지 말고, 모델에 포함된 모든 요소가 꼭 칠요한 것인지 평가해야 한다. "
   ]
  }
 ],
 "metadata": {
  "kernelspec": {
   "display_name": "Python 3",
   "language": "python",
   "name": "python3"
  },
  "language_info": {
   "codemirror_mode": {
    "name": "ipython",
    "version": 3
   },
   "file_extension": ".py",
   "mimetype": "text/x-python",
   "name": "python",
   "nbconvert_exporter": "python",
   "pygments_lexer": "ipython3",
   "version": "3.8.5"
  }
 },
 "nbformat": 4,
 "nbformat_minor": 4
}
